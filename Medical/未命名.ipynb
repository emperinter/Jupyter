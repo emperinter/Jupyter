{
 "cells": [
  {
   "cell_type": "code",
   "execution_count": 2,
   "metadata": {},
   "outputs": [
    {
     "name": "stdout",
     "output_type": "stream",
     "text": [
      "<Graph database=<Database uri='http://localhost:7474' secure=False user_agent='py2neo/4.3.0 urllib3/1.24.3 Python/3.7.4-final-0 (win32)'> name='data'>\n",
      "(_2336653:ru_yi_zhuan {name: '\\u7687\\u5e1d'})\n",
      "(_2336673:ru_yi_zhuan {name: '\\u7687\\u540e'})\n",
      "(皇帝)-[:丈夫 {count: 1}]->(皇后)\n",
      "(皇后)-[:妻子 {count: 1}]->(皇帝)\n",
      "(皇后)-[:母女 {}]->(公主)\n"
     ]
    }
   ],
   "source": [
    "# LOAD CSV FROM 'http://localhost:888/wwwroot/DATA/fj-gj.csv' AS line\n",
    "# CREATE (:Genre {FormulaId: line[0], FormulaName: line[1],Name:line[2],StandardValue:line[3]})\n",
    "\n",
    "# coding:utf-8\n",
    "from py2neo import Graph, Node, Relationship\n",
    " \n",
    "# 连接neo4j数据库，输入地址、用户名、密码\n",
    "graph = Graph('http://localhost:7474', username='neo4j', password='test')\n",
    "# graph.delete_all()\n",
    "# 创建结点\n",
    "test_node_1 = Node('ru_yi_zhuan', name='皇帝') # 修改的部分\n",
    "test_node_2 = Node('ru_yi_zhuan', name='皇后') # 修改的部分\n",
    "test_node_3 = Node('ru_yi_zhuan', name='公主') # 修改的部分\n",
    " \n",
    " \n",
    "graph.create(test_node_1)\n",
    "graph.create(test_node_2)\n",
    "graph.create(test_node_3)\n",
    " \n",
    "# 创建关系\n",
    "# 分别建立了test_node_1指向test_node_2和test_node_2指向test_node_1两条关系，关系的类型为\"丈夫、妻子\"，两条关系都有属性count，且值为1。\n",
    "node_1_zhangfu_node_1 = Relationship(test_node_1, '丈夫', test_node_2)\n",
    "node_1_zhangfu_node_1['count'] = 1\n",
    "node_2_qizi_node_1 = Relationship(test_node_2, '妻子', test_node_1)\n",
    "node_2_munv_node_1 = Relationship(test_node_2, '母女', test_node_3)\n",
    " \n",
    "node_2_qizi_node_1['count'] = 1\n",
    " \n",
    "graph.create(node_1_zhangfu_node_1)\n",
    "graph.create(node_2_qizi_node_1)\n",
    "graph.create(node_2_munv_node_1)\n",
    " \n",
    "print(graph)\n",
    "print(test_node_1)\n",
    "print(test_node_2)\n",
    "print(node_1_zhangfu_node_1)\n",
    "print(node_2_qizi_node_1)\n",
    "print(node_2_munv_node_1)\n",
    "\n"
   ]
  }
 ],
 "metadata": {
  "kernelspec": {
   "display_name": "Python 3",
   "language": "python",
   "name": "python3"
  },
  "language_info": {
   "codemirror_mode": {
    "name": "ipython",
    "version": 3
   },
   "file_extension": ".py",
   "mimetype": "text/x-python",
   "name": "python",
   "nbconvert_exporter": "python",
   "pygments_lexer": "ipython3",
   "version": "3.7.4"
  }
 },
 "nbformat": 4,
 "nbformat_minor": 4
}
