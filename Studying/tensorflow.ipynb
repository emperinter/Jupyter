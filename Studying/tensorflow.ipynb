{
 "cells": [
  {
   "cell_type": "code",
   "execution_count": 3,
   "metadata": {},
   "outputs": [],
   "source": [
    "import tensorflow as tf"
   ]
  },
  {
   "cell_type": "code",
   "execution_count": null,
   "metadata": {},
   "outputs": [],
   "source": [
    "import tensorflow as tf\n",
    "# Creates a graph.\n",
    "a = tf.constant([1.0, 2.0, 3.0, 4.0, 5.0, 6.0], shape=[2, 3], name='a')\n",
    "b = tf.constant([1.0, 2.0, 3.0, 4.0, 5.0, 6.0], shape=[3, 2], name='b')\n",
    "c = tf.matmul(a, b)\n",
    "# Creates a session with log_device_placement set to True.\n",
    "sess = tf.Session(config=tf.ConfigProto(log_device_placement=True))\n",
    "# Runs the op.\n",
    "print(sess.run(c))"
   ]
  },
  {
   "cell_type": "code",
   "execution_count": null,
   "metadata": {},
   "outputs": [],
   "source": [
    "import tensorflow as tf\n",
    " \n",
    "with tf.device('/cpu:0'):\n",
    "    a = tf.constant([1.0,2.0,3.0],shape=[3],name='a')\n",
    "    b = tf.constant([1.0,2.0,3.0],shape=[3],name='b')\n",
    "with tf.device('/gpu:0'):\n",
    "    c = a+b\n",
    "   \n",
    "#注意：allow_soft_placement=True表明：计算设备可自行选择，如果没有这个参数，会报错。\n",
    "#因为不是所有的操作都可以被放在GPU上，如果强行将无法放在GPU上的操作指定到GPU上，将会报错。\n",
    "sess = tf.Session(config=tf.ConfigProto(allow_soft_placement=True,log_device_placement=True))\n",
    "#sess = tf.Session(config=tf.ConfigProto(log_device_placement=True))\n",
    "sess.run(tf.global_variables_initializer())\n",
    "print(sess.run(c))\n"
   ]
  },
  {
   "cell_type": "code",
   "execution_count": 1,
   "metadata": {},
   "outputs": [
    {
     "name": "stdout",
     "output_type": "stream",
     "text": [
      "计算进行10.0%\n",
      "计算进行20.0%\n",
      "计算进行30.0%\n",
      "计算进行40.0%\n",
      "计算进行50.0%\n",
      "计算进行60.0%\n",
      "计算进行70.0%\n",
      "计算进行80.0%\n",
      "计算进行90.0%\n",
      "计算进行100.0%\n",
      "12.313365459442139\n"
     ]
    }
   ],
   "source": [
    "import tensorflow as tf\n",
    "import numpy as np\n",
    "import time\n",
    " \n",
    "value = np.random.randn(5000, 1000)\n",
    "a = tf.constant(value)\n",
    " \n",
    "b = a * a\n",
    "\n",
    "c =0\n",
    "tic = time.time()\n",
    "with tf.Session() as sess:\n",
    "        for i in range(1000):\n",
    "            sess.run(b)\n",
    "            c+=1\n",
    "            if c%100 == 0:\n",
    "                d = c / 10\n",
    "                print(\"计算进行%s%%\" % d)\n",
    " \n",
    "toc = time.time()\n",
    "t_cost = toc - tic\n",
    " \n",
    "print(t_cost)"
   ]
  },
  {
   "cell_type": "code",
   "execution_count": null,
   "metadata": {},
   "outputs": [],
   "source": []
  }
 ],
 "metadata": {
  "kernelspec": {
   "display_name": "Python 3",
   "language": "python",
   "name": "python3"
  },
  "language_info": {
   "codemirror_mode": {
    "name": "ipython",
    "version": 3
   },
   "file_extension": ".py",
   "mimetype": "text/x-python",
   "name": "python",
   "nbconvert_exporter": "python",
   "pygments_lexer": "ipython3",
   "version": "3.7.4"
  }
 },
 "nbformat": 4,
 "nbformat_minor": 4
}
