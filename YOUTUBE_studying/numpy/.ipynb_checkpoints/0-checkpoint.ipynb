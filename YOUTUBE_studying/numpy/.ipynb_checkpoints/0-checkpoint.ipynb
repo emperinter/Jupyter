{
 "cells": [
  {
   "cell_type": "code",
   "execution_count": 6,
   "metadata": {},
   "outputs": [
    {
     "name": "stderr",
     "output_type": "stream",
     "text": [
      "IOPub data rate exceeded.\n",
      "The notebook server will temporarily stop sending output\n",
      "to the client in order to avoid crashing it.\n",
      "To change this limit, set the config variable\n",
      "`--NotebookApp.iopub_data_rate_limit`.\n",
      "\n",
      "Current values:\n",
      "NotebookApp.iopub_data_rate_limit=1000000.0 (bytes/sec)\n",
      "NotebookApp.rate_limit_window=3.0 (secs)\n",
      "\n"
     ]
    }
   ],
   "source": [
    "import numpy\n",
    "# world_alcohol = numpy.genfromtxt(\"m.csv\",delimiter=\",\",dtype=str)\n",
    "# print(type(world_alcohol))\n",
    "# print(world_alcohol)\n",
    "# print(help(numpy.genformtxt))\n",
    "\n",
    "print(help(numpy()))"
   ]
  },
  {
   "cell_type": "code",
   "execution_count": 16,
   "metadata": {},
   "outputs": [
    {
     "name": "stdout",
     "output_type": "stream",
     "text": [
      "[ 5 10 15 20]\n",
      "[[ 5 10 15]\n",
      " [20 25 30]\n",
      " [35 40 45]]\n",
      "(4,)\n",
      "(3, 3)\n"
     ]
    }
   ],
   "source": [
    "# 构造数组\n",
    "\n",
    "# 一维数组\n",
    "vector = numpy.array([5,10,15,20])\n",
    "# 二维数组，注意有两个括号\n",
    "matrix = numpy.array([[5,10,15],[20,25,30],[35,40,45]])\n",
    "\n",
    "print(vector)\n",
    "print(matrix)\n",
    "\n",
    "print(vector.shape) # 一维数组/每行4个元素\n",
    "print(matrix.shape) # 三行三列"
   ]
  },
  {
   "cell_type": "code",
   "execution_count": 29,
   "metadata": {},
   "outputs": [
    {
     "name": "stdout",
     "output_type": "stream",
     "text": [
      "[[[ 1  2]\n",
      "  [ 3  4]]\n",
      "\n",
      " [[ 5  6]\n",
      "  [ 7  8]]\n",
      "\n",
      " [[ 9 10]\n",
      "  [11 12]]]\n",
      "(3, 2, 2)\n",
      "3\n"
     ]
    }
   ],
   "source": [
    "##############\n",
    "#####是否正确?\n",
    "##############\n",
    "third = numpy.array([[[1,2],[3,4]],[[5,6],[7,8]],[[9,10],[11,12]]])\n",
    "print(third)\n",
    "print(third.shape)\n",
    "print(third.ndim)\n",
    "##########\n",
    "#3*2*2的矩阵？？？"
   ]
  },
  {
   "cell_type": "code",
   "execution_count": 28,
   "metadata": {},
   "outputs": [
    {
     "name": "stdout",
     "output_type": "stream",
     "text": [
      "[[[1 2]\n",
      "  [3 4]\n",
      "  [5 6]]]\n",
      "(1, 3, 2)\n",
      "3\n"
     ]
    }
   ],
   "source": [
    "#############\n",
    "####是否正确?\n",
    "############\n",
    "third0 = numpy.array([[[1,2],[3,4],[5,6]]])\n",
    "print(third0)\n",
    "print(third0.shape)\n",
    "print(third0.ndim)\n",
    "##########\n",
    "#1*3*2的矩阵\n",
    "#########"
   ]
  },
  {
   "cell_type": "code",
   "execution_count": 18,
   "metadata": {},
   "outputs": [
    {
     "name": "stdout",
     "output_type": "stream",
     "text": [
      "<U1\n",
      "['1' '2' '3']\n",
      "float64\n",
      "[1. 2. 3.]\n"
     ]
    }
   ],
   "source": [
    "v = numpy.array([\"1\",\"2\",\"3\"])\n",
    "print(v.dtype)\n",
    "print(v)\n",
    "v = v.astype(float)\n",
    "print(v.dtype)\n",
    "print(v)"
   ]
  },
  {
   "cell_type": "code",
   "execution_count": 20,
   "metadata": {},
   "outputs": [
    {
     "name": "stdout",
     "output_type": "stream",
     "text": [
      "Help on built-in function array in module numpy:\n",
      "\n",
      "array(...)\n",
      "    array(object, dtype=None, copy=True, order='K', subok=False, ndmin=0)\n",
      "    \n",
      "    Create an array.\n",
      "    \n",
      "    Parameters\n",
      "    ----------\n",
      "    object : array_like\n",
      "        An array, any object exposing the array interface, an object whose\n",
      "        __array__ method returns an array, or any (nested) sequence.\n",
      "    dtype : data-type, optional\n",
      "        The desired data-type for the array.  If not given, then the type will\n",
      "        be determined as the minimum type required to hold the objects in the\n",
      "        sequence.  This argument can only be used to 'upcast' the array.  For\n",
      "        downcasting, use the .astype(t) method.\n",
      "    copy : bool, optional\n",
      "        If true (default), then the object is copied.  Otherwise, a copy will\n",
      "        only be made if __array__ returns a copy, if obj is a nested sequence,\n",
      "        or if a copy is needed to satisfy any of the other requirements\n",
      "        (`dtype`, `order`, etc.).\n",
      "    order : {'K', 'A', 'C', 'F'}, optional\n",
      "        Specify the memory layout of the array. If object is not an array, the\n",
      "        newly created array will be in C order (row major) unless 'F' is\n",
      "        specified, in which case it will be in Fortran order (column major).\n",
      "        If object is an array the following holds.\n",
      "    \n",
      "        ===== ========= ===================================================\n",
      "        order  no copy                     copy=True\n",
      "        ===== ========= ===================================================\n",
      "        'K'   unchanged F & C order preserved, otherwise most similar order\n",
      "        'A'   unchanged F order if input is F and not C, otherwise C order\n",
      "        'C'   C order   C order\n",
      "        'F'   F order   F order\n",
      "        ===== ========= ===================================================\n",
      "    \n",
      "        When ``copy=False`` and a copy is made for other reasons, the result is\n",
      "        the same as if ``copy=True``, with some exceptions for `A`, see the\n",
      "        Notes section. The default order is 'K'.\n",
      "    subok : bool, optional\n",
      "        If True, then sub-classes will be passed-through, otherwise\n",
      "        the returned array will be forced to be a base-class array (default).\n",
      "    ndmin : int, optional\n",
      "        Specifies the minimum number of dimensions that the resulting\n",
      "        array should have.  Ones will be pre-pended to the shape as\n",
      "        needed to meet this requirement.\n",
      "    \n",
      "    Returns\n",
      "    -------\n",
      "    out : ndarray\n",
      "        An array object satisfying the specified requirements.\n",
      "    \n",
      "    See Also\n",
      "    --------\n",
      "    empty_like : Return an empty array with shape and type of input.\n",
      "    ones_like : Return an array of ones with shape and type of input.\n",
      "    zeros_like : Return an array of zeros with shape and type of input.\n",
      "    full_like : Return a new array with shape of input filled with value.\n",
      "    empty : Return a new uninitialized array.\n",
      "    ones : Return a new array setting values to one.\n",
      "    zeros : Return a new array setting values to zero.\n",
      "    full : Return a new array of given shape filled with value.\n",
      "    \n",
      "    \n",
      "    Notes\n",
      "    -----\n",
      "    When order is 'A' and `object` is an array in neither 'C' nor 'F' order,\n",
      "    and a copy is forced by a change in dtype, then the order of the result is\n",
      "    not necessarily 'C' as expected. This is likely a bug.\n",
      "    \n",
      "    Examples\n",
      "    --------\n",
      "    >>> np.array([1, 2, 3])\n",
      "    array([1, 2, 3])\n",
      "    \n",
      "    Upcasting:\n",
      "    \n",
      "    >>> np.array([1, 2, 3.0])\n",
      "    array([ 1.,  2.,  3.])\n",
      "    \n",
      "    More than one dimension:\n",
      "    \n",
      "    >>> np.array([[1, 2], [3, 4]])\n",
      "    array([[1, 2],\n",
      "           [3, 4]])\n",
      "    \n",
      "    Minimum dimensions 2:\n",
      "    \n",
      "    >>> np.array([1, 2, 3], ndmin=2)\n",
      "    array([[1, 2, 3]])\n",
      "    \n",
      "    Type provided:\n",
      "    \n",
      "    >>> np.array([1, 2, 3], dtype=complex)\n",
      "    array([ 1.+0.j,  2.+0.j,  3.+0.j])\n",
      "    \n",
      "    Data-type consisting of more than one element:\n",
      "    \n",
      "    >>> x = np.array([(1,2),(3,4)],dtype=[('a','<i4'),('b','<i4')])\n",
      "    >>> x['a']\n",
      "    array([1, 3])\n",
      "    \n",
      "    Creating an array from sub-classes:\n",
      "    \n",
      "    >>> np.array(np.mat('1 2; 3 4'))\n",
      "    array([[1, 2],\n",
      "           [3, 4]])\n",
      "    \n",
      "    >>> np.array(np.mat('1 2; 3 4'), subok=True)\n",
      "    matrix([[1, 2],\n",
      "            [3, 4]])\n",
      "\n",
      "None\n"
     ]
    }
   ],
   "source": [
    "print(help(numpy.array))"
   ]
  },
  {
   "cell_type": "code",
   "execution_count": 21,
   "metadata": {},
   "outputs": [
    {
     "data": {
      "text/plain": [
       "array([ 30,  75, 120])"
      ]
     },
     "execution_count": 21,
     "metadata": {},
     "output_type": "execute_result"
    }
   ],
   "source": [
    "m = numpy.array([\n",
    "    [5,10,15],\n",
    "    [20,25,30],\n",
    "    [35,40,45]\n",
    "])\n",
    "m.sum(axis=1)"
   ]
  },
  {
   "cell_type": "code",
   "execution_count": 22,
   "metadata": {},
   "outputs": [
    {
     "data": {
      "text/plain": [
       "array([60, 75, 90])"
      ]
     },
     "execution_count": 22,
     "metadata": {},
     "output_type": "execute_result"
    }
   ],
   "source": [
    "m = numpy.array([\n",
    "    [5,10,15],\n",
    "    [20,25,30],\n",
    "    [35,40,45]\n",
    "])\n",
    "m.sum(axis=0)"
   ]
  },
  {
   "cell_type": "code",
   "execution_count": 11,
   "metadata": {},
   "outputs": [
    {
     "name": "stdout",
     "output_type": "stream",
     "text": [
      "[ 0  1  2  3  4  5  6  7  8  9 10 11 12 13 14]\n"
     ]
    },
    {
     "data": {
      "text/plain": [
       "array([[ 0,  1,  2,  3,  4],\n",
       "       [ 5,  6,  7,  8,  9],\n",
       "       [10, 11, 12, 13, 14]])"
      ]
     },
     "execution_count": 11,
     "metadata": {},
     "output_type": "execute_result"
    }
   ],
   "source": [
    "import numpy as np\n",
    "print(np.arange(15))\n",
    "a = np.arange(15).reshape(3,5)\n",
    "a"
   ]
  },
  {
   "cell_type": "code",
   "execution_count": 27,
   "metadata": {},
   "outputs": [
    {
     "name": "stdout",
     "output_type": "stream",
     "text": [
      "2\n"
     ]
    }
   ],
   "source": [
    "print(a.ndim)"
   ]
  },
  {
   "cell_type": "code",
   "execution_count": 31,
   "metadata": {},
   "outputs": [
    {
     "data": {
      "text/plain": [
       "array([[0., 0., 0., 0.],\n",
       "       [0., 0., 0., 0.],\n",
       "       [0., 0., 0., 0.]])"
      ]
     },
     "execution_count": 31,
     "metadata": {},
     "output_type": "execute_result"
    }
   ],
   "source": [
    "np.zeros((3,4))"
   ]
  },
  {
   "cell_type": "code",
   "execution_count": 2,
   "metadata": {},
   "outputs": [
    {
     "data": {
      "text/plain": [
       "array([[[1, 1, 1, 1],\n",
       "        [1, 1, 1, 1],\n",
       "        [1, 1, 1, 1]],\n",
       "\n",
       "       [[1, 1, 1, 1],\n",
       "        [1, 1, 1, 1],\n",
       "        [1, 1, 1, 1]]])"
      ]
     },
     "execution_count": 2,
     "metadata": {},
     "output_type": "execute_result"
    }
   ],
   "source": [
    "np.ones((2,3,4),dtype=np.int32)"
   ]
  },
  {
   "cell_type": "code",
   "execution_count": 4,
   "metadata": {},
   "outputs": [
    {
     "data": {
      "text/plain": [
       "array([10, 15, 20, 25])"
      ]
     },
     "execution_count": 4,
     "metadata": {},
     "output_type": "execute_result"
    }
   ],
   "source": [
    "np.arange(10,30,5)"
   ]
  },
  {
   "cell_type": "code",
   "execution_count": 10,
   "metadata": {},
   "outputs": [
    {
     "data": {
      "text/plain": [
       "array([[10, 15],\n",
       "       [20, 25]])"
      ]
     },
     "execution_count": 10,
     "metadata": {},
     "output_type": "execute_result"
    }
   ],
   "source": [
    "np.arange(10,30,5).reshape(2,2)"
   ]
  },
  {
   "cell_type": "code",
   "execution_count": 12,
   "metadata": {},
   "outputs": [
    {
     "data": {
      "text/plain": [
       "array([[0.05134094, 0.63073588, 0.14218974],\n",
       "       [0.86727903, 0.95890848, 0.39738407]])"
      ]
     },
     "execution_count": 12,
     "metadata": {},
     "output_type": "execute_result"
    }
   ],
   "source": [
    "np.random.random((2,3)) # 第一个random是调用模块，第二个是调用函数，(2,3)是构造一个2*3的矩阵\n"
   ]
  },
  {
   "cell_type": "code",
   "execution_count": 16,
   "metadata": {},
   "outputs": [
    {
     "data": {
      "text/plain": [
       "array([0.        , 0.06346652, 0.12693304, 0.19039955, 0.25386607,\n",
       "       0.31733259, 0.38079911, 0.44426563, 0.50773215, 0.57119866,\n",
       "       0.63466518, 0.6981317 , 0.76159822, 0.82506474, 0.88853126,\n",
       "       0.95199777, 1.01546429, 1.07893081, 1.14239733, 1.20586385,\n",
       "       1.26933037, 1.33279688, 1.3962634 , 1.45972992, 1.52319644,\n",
       "       1.58666296, 1.65012947, 1.71359599, 1.77706251, 1.84052903,\n",
       "       1.90399555, 1.96746207, 2.03092858, 2.0943951 , 2.15786162,\n",
       "       2.22132814, 2.28479466, 2.34826118, 2.41172769, 2.47519421,\n",
       "       2.53866073, 2.60212725, 2.66559377, 2.72906028, 2.7925268 ,\n",
       "       2.85599332, 2.91945984, 2.98292636, 3.04639288, 3.10985939,\n",
       "       3.17332591, 3.23679243, 3.30025895, 3.36372547, 3.42719199,\n",
       "       3.4906585 , 3.55412502, 3.61759154, 3.68105806, 3.74452458,\n",
       "       3.8079911 , 3.87145761, 3.93492413, 3.99839065, 4.06185717,\n",
       "       4.12532369, 4.1887902 , 4.25225672, 4.31572324, 4.37918976,\n",
       "       4.44265628, 4.5061228 , 4.56958931, 4.63305583, 4.69652235,\n",
       "       4.75998887, 4.82345539, 4.88692191, 4.95038842, 5.01385494,\n",
       "       5.07732146, 5.14078798, 5.2042545 , 5.26772102, 5.33118753,\n",
       "       5.39465405, 5.45812057, 5.52158709, 5.58505361, 5.64852012,\n",
       "       5.71198664, 5.77545316, 5.83891968, 5.9023862 , 5.96585272,\n",
       "       6.02931923, 6.09278575, 6.15625227, 6.21971879, 6.28318531])"
      ]
     },
     "execution_count": 16,
     "metadata": {},
     "output_type": "execute_result"
    }
   ],
   "source": [
    "from numpy import pi\n",
    "np.linspace(0,2*pi,100)"
   ]
  },
  {
   "cell_type": "code",
   "execution_count": 20,
   "metadata": {},
   "outputs": [
    {
     "data": {
      "text/plain": [
       "array([2.  , 2.25, 2.5 , 2.75, 3.  ])"
      ]
     },
     "execution_count": 20,
     "metadata": {},
     "output_type": "execute_result"
    }
   ],
   "source": [
    "np.linspace(2,3,5)"
   ]
  },
  {
   "cell_type": "code",
   "execution_count": 22,
   "metadata": {},
   "outputs": [
    {
     "name": "stdout",
     "output_type": "stream",
     "text": [
      "[20 30 40 50]\n",
      "[0 1 2 3]\n",
      "a - b  [20 29 38 47]\n",
      "a - b - 1 : [19 28 37 46]\n",
      "b**2 [0 1 4 9]\n",
      "a < 35 [ True  True False False]\n"
     ]
    }
   ],
   "source": [
    "import numpy as np\n",
    "a = np.array([20,30,40,50])\n",
    "b = np.arange(4)\n",
    "print(a)\n",
    "print(b)\n",
    "print(\"a - b \" , a - b)\n",
    "print(\"a - b - 1 :\" , a - b - 1)\n",
    "print(\"b**2\" , b**2)\n",
    "print(\"a < 35\" , a < 35)"
   ]
  },
  {
   "cell_type": "code",
   "execution_count": 26,
   "metadata": {},
   "outputs": [
    {
     "name": "stdout",
     "output_type": "stream",
     "text": [
      "------A-------\n",
      "[[1 1]\n",
      " [0 1]]\n",
      "------B-------\n",
      "[[2 0]\n",
      " [3 4]]\n",
      "------A*B-------\n",
      "[[2 0]\n",
      " [0 4]]\n",
      "------A.dot(B)-------\n",
      "[[5 4]\n",
      " [3 4]]\n",
      "------np.dot(A,B)-------\n",
      "[[5 4]\n",
      " [3 4]]\n"
     ]
    }
   ],
   "source": [
    "A = np.array([\n",
    "    [1,1],\n",
    "    [0,1]\n",
    "])\n",
    "\n",
    "B = np.array([\n",
    "    [2,0],\n",
    "    [3,4]\n",
    "])\n",
    "\n",
    "print('------A-------')\n",
    "\n",
    "print(A)\n",
    "\n",
    "print('------B-------')\n",
    "\n",
    "print(B)\n",
    "\n",
    "print('------A*B-------')\n",
    "\n",
    "print(A*B)\n",
    "\n",
    "print('------A.dot(B)-------')\n",
    "\n",
    "print(A.dot(B))\n",
    "\n",
    "print('------np.dot(A,B)-------')\n",
    "\n",
    "print(np.dot(A,B))"
   ]
  },
  {
   "cell_type": "code",
   "execution_count": 27,
   "metadata": {},
   "outputs": [
    {
     "name": "stdout",
     "output_type": "stream",
     "text": [
      "[0 1 2]\n",
      "[1.         2.71828183 7.3890561 ]\n",
      "[0.         1.         1.41421356]\n"
     ]
    }
   ],
   "source": [
    "import numpy as np\n",
    "B = np.arange(3)\n",
    "print(B)\n",
    "print(np.exp(B))\n",
    "print(np.sqrt(B))"
   ]
  },
  {
   "cell_type": "code",
   "execution_count": 40,
   "metadata": {},
   "outputs": [
    {
     "name": "stdout",
     "output_type": "stream",
     "text": [
      "[[7. 3. 4. 2.]\n",
      " [9. 8. 6. 2.]\n",
      " [0. 2. 3. 5.]]\n",
      "-------------\n",
      "[7. 3. 4. 2. 9. 8. 6. 2. 0. 2. 3. 5.]\n",
      "-------------\n",
      "[[7. 3. 4. 2.]\n",
      " [9. 8. 6. 2.]\n",
      " [0. 2. 3. 5.]]\n",
      "-------------\n",
      "[[7. 9. 0.]\n",
      " [3. 8. 2.]\n",
      " [4. 6. 3.]\n",
      " [2. 2. 5.]]\n"
     ]
    }
   ],
   "source": [
    "import numpy as np\n",
    "a = np.floor(10*np.random.random((3,4))) # np.floor() //向下取整\n",
    "print(a)\n",
    "print('-------------')\n",
    "print(a.ravel()) #把矩阵拉长向量\n",
    "print('-------------')\n",
    "a.shape = (3,-1)\n",
    "# a.shape = (3,-1)\n",
    "# -1帮你自动计算后一个维度的个数\n",
    "print(a)\n",
    "print('-------------')\n",
    "print(a.T) # 矩阵转置"
   ]
  },
  {
   "cell_type": "code",
   "execution_count": 48,
   "metadata": {},
   "outputs": [
    {
     "name": "stdout",
     "output_type": "stream",
     "text": [
      "----------a-----------\n",
      "[[2. 0.]\n",
      " [9. 7.]]\n",
      "----------b-----------\n",
      "[[2. 0.]\n",
      " [6. 9.]]\n",
      "----------------------\n",
      "[[2. 0. 2. 0.]\n",
      " [9. 7. 6. 9.]]\n",
      "----------------------\n",
      "[[2. 0.]\n",
      " [9. 7.]\n",
      " [2. 0.]\n",
      " [6. 9.]]\n"
     ]
    }
   ],
   "source": [
    "# 矩阵拼接\n",
    "import numpy as np\n",
    "a = np.floor(10*np.random.random((2,2)))\n",
    "b = np.floor(10*np.random.random((2,2)))\n",
    "print('----------a-----------')\n",
    "print(a)\n",
    "print('----------b-----------')\n",
    "print(b)\n",
    "print('----------------------')\n",
    "print(np.hstack((a,b))) # 按行拼接\n",
    "print('----------------------')\n",
    "print(np.vstack((a,b))) # 按列拼接"
   ]
  },
  {
   "cell_type": "code",
   "execution_count": 52,
   "metadata": {},
   "outputs": [
    {
     "name": "stdout",
     "output_type": "stream",
     "text": [
      "[[4. 3. 3. 3. 7. 5. 7. 4. 6. 4. 6. 8.]\n",
      " [9. 9. 4. 8. 0. 4. 3. 5. 1. 9. 4. 4.]]\n",
      "------------\n",
      "[array([[4., 3., 3., 3.],\n",
      "       [9., 9., 4., 8.]]), array([[7., 5., 7., 4.],\n",
      "       [0., 4., 3., 5.]]), array([[6., 4., 6., 8.],\n",
      "       [1., 9., 4., 4.]])]\n",
      "------------\n",
      "[array([[4., 3., 3.],\n",
      "       [9., 9., 4.]]), array([[3.],\n",
      "       [8.]]), array([[7., 5., 7., 4., 6., 4., 6., 8.],\n",
      "       [0., 4., 3., 5., 1., 9., 4., 4.]])]\n",
      "------------\n",
      "[[8. 2.]\n",
      " [3. 9.]\n",
      " [3. 5.]\n",
      " [5. 0.]\n",
      " [4. 3.]\n",
      " [2. 3.]\n",
      " [0. 2.]\n",
      " [5. 7.]\n",
      " [5. 5.]\n",
      " [7. 9.]\n",
      " [3. 8.]\n",
      " [0. 0.]]\n",
      "-------------\n"
     ]
    },
    {
     "data": {
      "text/plain": [
       "[array([[8., 2.],\n",
       "        [3., 9.],\n",
       "        [3., 5.],\n",
       "        [5., 0.]]), array([[4., 3.],\n",
       "        [2., 3.],\n",
       "        [0., 2.],\n",
       "        [5., 7.]]), array([[5., 5.],\n",
       "        [7., 9.],\n",
       "        [3., 8.],\n",
       "        [0., 0.]])]"
      ]
     },
     "execution_count": 52,
     "metadata": {},
     "output_type": "execute_result"
    }
   ],
   "source": [
    "#数据分割\n",
    "a = np.floor(10*np.random.random((2,12)))\n",
    "print(a)\n",
    "print('------------')\n",
    "print(np.hsplit(a,3))  # 按行切分，3切分成3份，得到三个array值\n",
    "print('------------')\n",
    "print(np.hsplit(a,(3,4))) \n",
    "# split a after  the third and the fourth cloumn\n",
    "# 在第三行和第四行后进行切割\n",
    "print('------------')\n",
    "a = np.floor(10*np.random.random((12,2)))\n",
    "print(a)\n",
    "print('-------------')\n",
    "np.vsplit(a,3)  # 按列切分\n"
   ]
  },
  {
   "cell_type": "code",
   "execution_count": 53,
   "metadata": {},
   "outputs": [
    {
     "name": "stdout",
     "output_type": "stream",
     "text": [
      "True\n",
      "(3, 4)\n",
      "2540538182992\n",
      "2540538182992\n"
     ]
    }
   ],
   "source": [
    "import numpy as np\n",
    "a = np.arange(12)\n",
    "################\n",
    "b = a # 非复制\n",
    "################\n",
    "# a and b are two names for the same ndarray object\n",
    "print(b is a)\n",
    "b.shape = (3,4)\n",
    "print(a.shape)\n",
    "print(id(a))\n",
    "print(id(b))"
   ]
  },
  {
   "cell_type": "code",
   "execution_count": 58,
   "metadata": {},
   "outputs": [
    {
     "name": "stdout",
     "output_type": "stream",
     "text": [
      "False\n",
      "a.shape:  (3, 4)\n",
      "c.shape:  (2, 6)\n",
      "[[   0    1    2    3]\n",
      " [1234    5    6    7]\n",
      " [   8    9   10   11]]\n",
      "2540538182992\n",
      "2540538442256\n"
     ]
    }
   ],
   "source": [
    "# 复制/有俩种方法\n",
    "\n",
    "# 浅复制\n",
    "c = a.view() # 浅复制，共用一套值\n",
    "print(c is a)\n",
    "c.shape = (2,6)\n",
    "print('a.shape: ' ,a.shape)\n",
    "print('c.shape: ' ,c.shape)\n",
    "c[0,4] = 1234    # a 的值也变量，a和c共用了一套值\n",
    "print(a)\n",
    "print(id(a))\n",
    "print(id(c))"
   ]
  },
  {
   "cell_type": "code",
   "execution_count": 59,
   "metadata": {},
   "outputs": [
    {
     "name": "stdout",
     "output_type": "stream",
     "text": [
      "False\n",
      "------d-------\n",
      "[[9999    1    2    3]\n",
      " [1234    5    6    7]\n",
      " [   8    9   10   11]]\n",
      "------a-------\n",
      "[[   0    1    2    3]\n",
      " [1234    5    6    7]\n",
      " [   8    9   10   11]]\n"
     ]
    }
   ],
   "source": [
    "# 深复制\n",
    "d = a.copy()\n",
    "print(d is a)\n",
    "d[0,0] = 9999\n",
    "print('------d-------')\n",
    "print(d)\n",
    "print('------a-------')\n",
    "print(a)"
   ]
  },
  {
   "cell_type": "code",
   "execution_count": 60,
   "metadata": {},
   "outputs": [
    {
     "name": "stdout",
     "output_type": "stream",
     "text": [
      "[[ 0.          0.84147098  0.90929743  0.14112001]\n",
      " [-0.7568025  -0.95892427 -0.2794155   0.6569866 ]\n",
      " [ 0.98935825  0.41211849 -0.54402111 -0.99999021]\n",
      " [-0.53657292  0.42016704  0.99060736  0.65028784]\n",
      " [-0.28790332 -0.96139749 -0.75098725  0.14987721]]\n",
      "[2 0 3 1]\n",
      "[0.98935825 0.84147098 0.99060736 0.6569866 ]\n"
     ]
    }
   ],
   "source": [
    "#索引\n",
    "import numpy as np\n",
    "data = np.sin(np.arange(20).reshape(5,4))\n",
    "print(data)\n",
    "ind = data.argmax(axis = 0) # 按列来进行计算\n",
    "print(ind) # 输出每一列的最大值所在的行（以0开始），索引\n",
    "data_max = data[ind,range(data.shape[1])] \n",
    "print(data_max)"
   ]
  },
  {
   "cell_type": "code",
   "execution_count": 62,
   "metadata": {},
   "outputs": [
    {
     "name": "stdout",
     "output_type": "stream",
     "text": [
      "[ 0 10 20 30]\n",
      "[[ 0 10 20 30  0 10 20 30  0 10 20 30  0 10 20 30  0 10 20 30]\n",
      " [ 0 10 20 30  0 10 20 30  0 10 20 30  0 10 20 30  0 10 20 30]\n",
      " [ 0 10 20 30  0 10 20 30  0 10 20 30  0 10 20 30  0 10 20 30]]\n"
     ]
    }
   ],
   "source": [
    "# 扩展\n",
    "import numpy as np\n",
    "a = np.arange(0,40,10)\n",
    "print(a)\n",
    "b = np.tile(a,(3,5)) #构造一个三行五列的二维数组，每一个元素都是a\n",
    "print(b)"
   ]
  },
  {
   "cell_type": "code",
   "execution_count": 76,
   "metadata": {},
   "outputs": [
    {
     "name": "stdout",
     "output_type": "stream",
     "text": [
      "[[4 3 5]\n",
      " [1 6 1]\n",
      " [0 2 3]]\n",
      "------按列排序-------\n",
      "[[0 2 1]\n",
      " [1 3 3]\n",
      " [4 6 5]]\n",
      "--------按行排序-----\n",
      "[[3 4 5]\n",
      " [1 1 6]\n",
      " [0 2 3]]\n",
      "################\n",
      "-------最小值索引------\n",
      "[2 3 1 0]\n",
      "-------排序结果------\n",
      "[1 2 3 5]\n"
     ]
    }
   ],
   "source": [
    "#排序\n",
    "import numpy as np\n",
    "a = np.array([[4,3,5],\n",
    "             [1,6,1],\n",
    "             [0,2,3]])\n",
    "print(a)\n",
    "print('------按列排序-------')\n",
    "b = np.sort(a,axis = 0) #对二维数组排序,0为按列排序，1为按行排序\n",
    "print(b)\n",
    "#b\n",
    "a.sort(axis = 1)\n",
    "print('--------按行排序-----') #对二维数组排序,0为按列排序，1为按行排序\n",
    "print(a)\n",
    "\n",
    "print('################')\n",
    "a = np.array([5,3,1,2])\n",
    "j = np.argsort(a)   # 索引，求最小值索引（编号）\n",
    "\n",
    "print('-------最小值索引------')\n",
    "print(j)\n",
    "print('-------排序结果------')\n",
    "print(a[j])   # 排序完之后的结果"
   ]
  },
  {
   "cell_type": "code",
   "execution_count": null,
   "metadata": {},
   "outputs": [],
   "source": []
  }
 ],
 "metadata": {
  "kernelspec": {
   "display_name": "Python 3",
   "language": "python",
   "name": "python3"
  },
  "language_info": {
   "codemirror_mode": {
    "name": "ipython",
    "version": 3
   },
   "file_extension": ".py",
   "mimetype": "text/x-python",
   "name": "python",
   "nbconvert_exporter": "python",
   "pygments_lexer": "ipython3",
   "version": "3.7.4"
  }
 },
 "nbformat": 4,
 "nbformat_minor": 4
}
