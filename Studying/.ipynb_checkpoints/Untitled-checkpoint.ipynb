{
 "cells": [
  {
   "cell_type": "code",
   "execution_count": 1,
   "metadata": {},
   "outputs": [
    {
     "name": "stdout",
     "output_type": "stream",
     "text": [
      "0.9660917830792959\n"
     ]
    }
   ],
   "source": [
    "# -*- coding: utf-8 -*-\n",
    "from math import sqrt\n",
    "def multiply(a, b):\n",
    "    sumofab = 0.0\n",
    "    for i in range(len(a)):\n",
    "        temp = a[i]*b[i]\n",
    "        sumofab += temp\n",
    "    return sumofab\n",
    "\n",
    "def p_value(x, y):\n",
    "    n = len(x)\n",
    "    #x各元素求和\n",
    "    sum_x = sum(x)\n",
    "    #y各元素求和\n",
    "    sum_y = sum(y)\n",
    "    #x和y各元素相乘求和\n",
    "    sum_xy = multiply(x,y)\n",
    "    #x各元素平方之和\n",
    "    sumofx2 = sum([pow(i,2) for i in x])\n",
    "    #y各元素平方之和\n",
    "    sumofy2 = sum([pow(i,2) for i in y])\n",
    "    #分子\n",
    "    num = sum_xy-((float(sum_x)*float(sum_y))/n)\n",
    "    #分母\n",
    "    dominator = sqrt((sumofx2-float(sum_x**2)/n)*(sumofy2-float(sum_y**2)/n))\n",
    "    return num/dominator\n",
    "\n",
    "x = [0,1,0,3]\n",
    "y=[0,1,0.5,2]\n",
    "\n",
    "print (p_value(x,y))\n"
   ]
  },
  {
   "cell_type": "code",
   "execution_count": 3,
   "metadata": {},
   "outputs": [
    {
     "name": "stderr",
     "output_type": "stream",
     "text": [
      "f:\\software\\python\\lib\\site-packages\\ipykernel_launcher.py:13: FutureWarning: \n",
      ".ix is deprecated. Please use\n",
      ".loc for label based indexing or\n",
      ".iloc for positional indexing\n",
      "\n",
      "See the documentation here:\n",
      "http://pandas.pydata.org/pandas-docs/stable/user_guide/indexing.html#ix-indexer-is-deprecated\n",
      "  del sys.path[0]\n",
      "f:\\software\\python\\lib\\site-packages\\pandas\\core\\indexing.py:822: FutureWarning: \n",
      ".ix is deprecated. Please use\n",
      ".loc for label based indexing or\n",
      ".iloc for positional indexing\n",
      "\n",
      "See the documentation here:\n",
      "http://pandas.pydata.org/pandas-docs/stable/user_guide/indexing.html#ix-indexer-is-deprecated\n",
      "  retval = getattr(retval, self.name)._getitem_axis(key, axis=i)\n",
      "f:\\software\\python\\lib\\site-packages\\seaborn\\axisgrid.py:2065: UserWarning: The `size` parameter has been renamed to `height`; pleaes update your code.\n",
      "  warnings.warn(msg, UserWarning)\n"
     ]
    },
    {
     "name": "stdout",
     "output_type": "stream",
     "text": [
      "                 TV     radio  newspaper     sales\n",
      "TV         1.000000  0.054809   0.056648  0.782224\n",
      "radio      0.054809  1.000000   0.354104  0.576223\n",
      "newspaper  0.056648  0.354104   1.000000  0.228299\n",
      "sales      0.782224  0.576223   0.228299  1.000000\n"
     ]
    },
    {
     "data": {
      "text/plain": [
       "<Figure size 1680x700 with 3 Axes>"
      ]
     },
     "metadata": {},
     "output_type": "display_data"
    },
    {
     "name": "stdout",
     "output_type": "stream",
     "text": [
      "factor source data: (200, 3) ; train set: (100, 3) ; test set: (100, 3)\n",
      "result variables source data: (200,) ;train set: (100,) ;test set: (100,)\n",
      "best fitting function is: Y =  0.04 *X1+ 0.21 *X2+ -0.0 *X3+ 3.45\n"
     ]
    },
    {
     "name": "stderr",
     "output_type": "stream",
     "text": [
      "f:\\software\\python\\lib\\site-packages\\ipykernel_launcher.py:19: FutureWarning: \n",
      ".ix is deprecated. Please use\n",
      ".loc for label based indexing or\n",
      ".iloc for positional indexing\n",
      "\n",
      "See the documentation here:\n",
      "http://pandas.pydata.org/pandas-docs/stable/user_guide/indexing.html#ix-indexer-is-deprecated\n",
      "f:\\software\\python\\lib\\site-packages\\ipykernel_launcher.py:21: FutureWarning: \n",
      ".ix is deprecated. Please use\n",
      ".loc for label based indexing or\n",
      ".iloc for positional indexing\n",
      "\n",
      "See the documentation here:\n",
      "http://pandas.pydata.org/pandas-docs/stable/user_guide/indexing.html#ix-indexer-is-deprecated\n"
     ]
    },
    {
     "data": {
      "text/plain": [
       "<Figure size 640x480 with 1 Axes>"
      ]
     },
     "metadata": {},
     "output_type": "display_data"
    }
   ],
   "source": [
    "import pandas as pd\n",
    "import numpy as np\n",
    "import matplotlib.pyplot as plt\n",
    "from pandas import DataFrame, Series\n",
    "import seaborn as sns\n",
    "from sklearn.linear_model import LinearRegression\n",
    "from sklearn.model_selection import train_test_split\n",
    "\n",
    "datafile = 'C:\\\\Users\\\\emperinter\\\\Desktop\\\\人工智能\\\\AI 上机\\\\多元线性回归\\\\Advertising.xlsx'\n",
    "data = pd.read_excel(datafile)\n",
    "examDf = DataFrame(data)\n",
    "\n",
    "new_examDf = examDf.ix[:,0:]\n",
    "\n",
    "print(new_examDf.corr())\n",
    "sns.pairplot(data, x_vars=['TV','radio','newspaper'], y_vars='sales', size=7, aspect=0.8, kind='reg')\n",
    "plt.show()\n",
    "\n",
    "X_train, X_test, Y_train, Y_test = train_test_split(new_examDf.ix[:,:3], new_examDf.sales, train_size=0.5)\n",
    "\n",
    "print('factor source data:', new_examDf.ix[:,:3].shape, '; train set:', X_train.shape, '; test set:', X_test.shape)\n",
    "print('result variables source data:', examDf.sales.shape, ';train set:', Y_train.shape, ';test set:', Y_test.shape)\n",
    "\n",
    "X_train = X_train.values.reshape(-1,3)\n",
    "X_test = X_test.values.reshape(-1,3)\n",
    "\n",
    "model = LinearRegression()\n",
    "model.fit(X_train, Y_train)\n",
    "\n",
    "a = model.coef_\n",
    "b = model.intercept_\n",
    "\n",
    "print('best fitting function is: Y = ', round(a[0],2),'*X1+', round(a[1],2), '*X2+', round(a[2],2), '*X3+', round(b,2))\n",
    "\n",
    "Y_pred = model.predict(X_test)\n",
    "\n",
    "plt.plot(range(len(Y_pred)), Y_pred, 'red', linewidth=2.5, label='predict data')\n",
    "plt.plot(range(len(Y_test)), Y_test, 'green', label='test data')\n",
    "plt.legend(loc=2)\n",
    "plt.show()\n",
    "\n"
   ]
  },
  {
   "cell_type": "code",
   "execution_count": 4,
   "metadata": {},
   "outputs": [
    {
     "name": "stdout",
     "output_type": "stream",
     "text": [
      "[[4.97798598 2.97848996 4.65879259 1.0017346 ]\n",
      " [3.97988757 2.39550356 3.92364914 1.00034258]\n",
      " [1.02044702 0.94990631 5.70677275 4.96910266]\n",
      " [0.99012001 0.86176345 4.69822282 3.98035761]\n",
      " [1.32609248 1.05953639 4.9671394  4.00233841]]\n"
     ]
    }
   ],
   "source": [
    "import numpy as np\n",
    "R=[\n",
    "    [5,3,0,1],\n",
    "    [4,0,0,1],\n",
    "    [1,1,0,5],\n",
    "    [1,0,0,4],\n",
    "    [0,1,5,4],\n",
    "]\n",
    "\n",
    "def matrix_factorization(R, P, Q, K, steps = 10000, alpha = 0.0002, beta = 0.02):\n",
    "    Q = Q.T\n",
    "    for step in range(steps):\n",
    "        for i in range(len(R)):\n",
    "            for j in range(len(R[i])):\n",
    "                if R[i][j]>0:\n",
    "                    eij = R[i][j]-np.dot(P[i,:],Q[:,j])\n",
    "                    for k in range(K):\n",
    "                        P[i][k] = P[i][k]+alpha*(2*eij*Q[k][j]-beta*P[i][k])\n",
    "                        Q[k][j] = Q[k][j]+alpha*(2*eij*P[i][k]-beta*Q[k][j])\n",
    "        eR = np.dot(P,Q)\n",
    "        e = 0\n",
    "        for i in range(len(R)):\n",
    "            for j in range(len(R[i])):\n",
    "                if R[i][j]>0:\n",
    "                    e = e+pow(R[i][j]-np.dot(P[i,:],Q[:,j]),2)\n",
    "                    for k in range(K):\n",
    "                        e = e+(beta/2)*(pow(P[i][k],2)+pow(Q[k][j],2))\n",
    "        if e<0.001:\n",
    "            break\n",
    "    return P, Q.T\n",
    "\n",
    "R = np.array(R)\n",
    "N = len(R)\n",
    "M = len(R[0])\n",
    "K = 2\n",
    "P = np.random.rand(N,K)\n",
    "Q = np.random.rand(M,K)\n",
    "\n",
    "nP, nQ = matrix_factorization(R, P, Q, K)\n",
    "\n",
    "nR = np.dot(nP, nQ.T)\n",
    "\n",
    "print (nR)\n",
    "\n"
   ]
  },
  {
   "cell_type": "code",
   "execution_count": null,
   "metadata": {},
   "outputs": [],
   "source": [
    "\n",
    "from sklearn.datasets import load_iris\n",
    "import matplotlib.pyplot as plt\n",
    "import matplotlib.colors as cl\n",
    "import numpy as np\n",
    "from sklearn.model_selection import train_test_split\n",
    "from sklearn import svm\n",
    "\n",
    "iris = load_iris()\n",
    "\n",
    "\n",
    "\n",
    "\n",
    "x= iris['data']\n",
    "y= iris['target']\n",
    "\n",
    "print(dir(iris))\n",
    "print (x)\n",
    "print (y)\n",
    "x = x[:,:2]\n",
    "\n",
    "x_train, x_test, y_train, y_test = train_test_split(x, y, random_state=1,train_size=0.6)\n",
    "\n",
    "clf = svm.SVC(C=0.8, kernel='rbf', gamma=20, decision_function_shape='ovr')\n",
    "clf.fit(x_train, y_train.ravel())\n",
    "\n",
    "print (clf.score(x_train, y_train))\n",
    "print (clf.score(x_test, y_test))\n",
    "\n",
    "\n",
    "x1_min, x1_max = x[:,0].min(), x[:,0].max()\n",
    "x2_min, x2_max = x[:,1].min(), x[:,1].max()\n",
    "\n",
    "x1, x2 = np.mgrid[x1_min:x1_max:200j, x2_min:x2_max:200j]\n",
    "grid_test = np.stack((x1.flat, x2.flat), axis=1)\n",
    "grid_hat = clf.predict(grid_test)\n",
    "grid_hat = grid_hat.reshape(x1.shape)\n",
    "\n",
    "plt.rcParams['font.sans-serif'] = [u'SimHei']\n",
    "plt.rcParams['axes.unicode_minus'] = False\n",
    "\n",
    "cm_light = cl.ListedColormap(['#A0FFA0', '#FFA0A0', '#A0A0FF'])\n",
    "cm_dark = cl.ListedColormap(['g','r','b'])\n",
    "plt.pcolormesh(x1, x2,grid_hat, cmap=cm_light)\n",
    "plt.scatter(x[:, 0], x[:, 1], c=y, edgecolors='k',s=50, cmap=cm_dark)\n",
    "plt.scatter(x_test[:,0], x_test[:,1], s=120, facecolors='none', zorder=10)\n",
    "plt.xlabel(u'length', fontsize=15)\n",
    "plt.ylabel(u'width', fontsize=15)\n",
    "plt.xlim(x1_min, x1_max)\n",
    "plt.ylim(x2_min, x2_max)\n",
    "plt.title(u'SVM binary features', fontsize = 18)\n",
    "plt.show()\n",
    "\n"
   ]
  }
 ],
 "metadata": {
  "kernelspec": {
   "display_name": "Python 3",
   "language": "python",
   "name": "python3"
  },
  "language_info": {
   "codemirror_mode": {
    "name": "ipython",
    "version": 3
   },
   "file_extension": ".py",
   "mimetype": "text/x-python",
   "name": "python",
   "nbconvert_exporter": "python",
   "pygments_lexer": "ipython3",
   "version": "3.7.4"
  }
 },
 "nbformat": 4,
 "nbformat_minor": 4
}
