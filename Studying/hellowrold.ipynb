{
 "cells": [
  {
   "cell_type": "code",
   "execution_count": 2,
   "metadata": {},
   "outputs": [
    {
     "name": "stdout",
     "output_type": "stream",
     "text": [
      "Epoch 1/5\n",
      "60000/60000 [==============================] - 7s 121us/sample - loss: 0.2907 - acc: 0.9152\n",
      "Epoch 2/5\n",
      "60000/60000 [==============================] - 6s 107us/sample - loss: 0.1446 - acc: 0.9577\n",
      "Epoch 3/5\n",
      "60000/60000 [==============================] - 6s 106us/sample - loss: 0.1088 - acc: 0.9676\n",
      "Epoch 4/5\n",
      "60000/60000 [==============================] - 7s 109us/sample - loss: 0.0878 - acc: 0.9731\n",
      "Epoch 5/5\n",
      "60000/60000 [==============================] - 6s 107us/sample - loss: 0.0749 - acc: 0.9767\n",
      "10000/10000 [==============================] - 1s 55us/sample - loss: 0.0793 - acc: 0.9736\n"
     ]
    },
    {
     "data": {
      "text/plain": [
       "[0.0792902342713438, 0.9736]"
      ]
     },
     "execution_count": 2,
     "metadata": {},
     "output_type": "execute_result"
    }
   ],
   "source": [
    "import tensorflow as tf\n",
    "mnist = tf.keras.datasets.mnist\n",
    "\n",
    "(x_train, y_train),(x_test, y_test) = mnist.load_data()\n",
    "x_train, x_test = x_train / 255.0, x_test / 255.0\n",
    "\n",
    "model = tf.keras.models.Sequential([\n",
    "  tf.keras.layers.Flatten(input_shape=(28, 28)),\n",
    "  tf.keras.layers.Dense(128, activation='relu'),\n",
    "  tf.keras.layers.Dropout(0.2),\n",
    "  tf.keras.layers.Dense(10, activation='softmax')\n",
    "])\n",
    "\n",
    "model.compile(optimizer='adam',\n",
    "              loss='sparse_categorical_crossentropy',\n",
    "              metrics=['accuracy'])\n",
    "\n",
    "model.fit(x_train, y_train, epochs=5)\n",
    "model.evaluate(x_test, y_test)"
   ]
  },
  {
   "cell_type": "code",
   "execution_count": null,
   "metadata": {},
   "outputs": [],
   "source": []
  }
 ],
 "metadata": {
  "kernelspec": {
   "display_name": "Python 3",
   "language": "python",
   "name": "python3"
  },
  "language_info": {
   "codemirror_mode": {
    "name": "ipython",
    "version": 3
   },
   "file_extension": ".py",
   "mimetype": "text/x-python",
   "name": "python",
   "nbconvert_exporter": "python",
   "pygments_lexer": "ipython3",
   "version": "3.7.4"
  }
 },
 "nbformat": 4,
 "nbformat_minor": 4
}
