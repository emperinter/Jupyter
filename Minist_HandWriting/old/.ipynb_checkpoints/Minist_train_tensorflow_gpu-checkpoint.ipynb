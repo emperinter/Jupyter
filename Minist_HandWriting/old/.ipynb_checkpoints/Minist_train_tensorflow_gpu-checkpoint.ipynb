{
 "cells": [
  {
   "cell_type": "code",
   "execution_count": 1,
   "metadata": {},
   "outputs": [
    {
     "name": "stderr",
     "output_type": "stream",
     "text": [
      "WARNING: Logging before flag parsing goes to stderr.\n",
      "W1005 15:13:18.502616  5712 deprecation.py:323] From <ipython-input-1-e0807fbb8942>:14: read_data_sets (from tensorflow.contrib.learn.python.learn.datasets.mnist) is deprecated and will be removed in a future version.\n",
      "Instructions for updating:\n",
      "Please use alternatives such as official/mnist/dataset.py from tensorflow/models.\n",
      "W1005 15:13:18.506607  5712 deprecation.py:323] From f:\\software\\python\\lib\\site-packages\\tensorflow\\contrib\\learn\\python\\learn\\datasets\\mnist.py:260: maybe_download (from tensorflow.contrib.learn.python.learn.datasets.base) is deprecated and will be removed in a future version.\n",
      "Instructions for updating:\n",
      "Please write your own downloading logic.\n",
      "W1005 15:13:18.506607  5712 deprecation.py:323] From f:\\software\\python\\lib\\site-packages\\tensorflow\\contrib\\learn\\python\\learn\\datasets\\mnist.py:262: extract_images (from tensorflow.contrib.learn.python.learn.datasets.mnist) is deprecated and will be removed in a future version.\n",
      "Instructions for updating:\n",
      "Please use tf.data to implement this functionality.\n",
      "W1005 15:13:18.702083  5712 deprecation.py:323] From f:\\software\\python\\lib\\site-packages\\tensorflow\\contrib\\learn\\python\\learn\\datasets\\mnist.py:267: extract_labels (from tensorflow.contrib.learn.python.learn.datasets.mnist) is deprecated and will be removed in a future version.\n",
      "Instructions for updating:\n",
      "Please use tf.data to implement this functionality.\n"
     ]
    },
    {
     "name": "stdout",
     "output_type": "stream",
     "text": [
      "Extracting MINST_daya/train-images-idx3-ubyte.gz\n"
     ]
    },
    {
     "name": "stderr",
     "output_type": "stream",
     "text": [
      "W1005 15:13:18.706073  5712 deprecation.py:323] From f:\\software\\python\\lib\\site-packages\\tensorflow\\contrib\\learn\\python\\learn\\datasets\\mnist.py:110: dense_to_one_hot (from tensorflow.contrib.learn.python.learn.datasets.mnist) is deprecated and will be removed in a future version.\n",
      "Instructions for updating:\n",
      "Please use tf.one_hot on tensors.\n",
      "W1005 15:13:18.745999  5712 deprecation.py:323] From f:\\software\\python\\lib\\site-packages\\tensorflow\\contrib\\learn\\python\\learn\\datasets\\mnist.py:290: DataSet.__init__ (from tensorflow.contrib.learn.python.learn.datasets.mnist) is deprecated and will be removed in a future version.\n",
      "Instructions for updating:\n",
      "Please use alternatives such as official/mnist/dataset.py from tensorflow/models.\n"
     ]
    },
    {
     "name": "stdout",
     "output_type": "stream",
     "text": [
      "Extracting MINST_daya/train-labels-idx1-ubyte.gz\n",
      "Extracting MINST_daya/t10k-images-idx3-ubyte.gz\n",
      "Extracting MINST_daya/t10k-labels-idx1-ubyte.gz\n",
      "输入数据： [[0. 0. 0. ... 0. 0. 0.]\n",
      " [0. 0. 0. ... 0. 0. 0.]\n",
      " [0. 0. 0. ... 0. 0. 0.]\n",
      " ...\n",
      " [0. 0. 0. ... 0. 0. 0.]\n",
      " [0. 0. 0. ... 0. 0. 0.]\n",
      " [0. 0. 0. ... 0. 0. 0.]]\n",
      "数据的shape： (55000, 784)\n"
     ]
    },
    {
     "data": {
      "text/plain": [
       "<Figure size 640x480 with 1 Axes>"
      ]
     },
     "metadata": {},
     "output_type": "display_data"
    }
   ],
   "source": [
    "# -*- coding: utf-8 -*-\n",
    "# !/usr/bin/env python\n",
    "# @Time    : 2019/5/17 17:03\n",
    "# @Author  : xhh\n",
    "# @Desc    :  minist数据集下载\n",
    "# @File    : mnist_data_load.py\n",
    "# @Software: PyCharm\n",
    "##################\n",
    "# 数据下载\n",
    "#################\n",
    "from tensorflow.examples.tutorials.mnist import  input_data\n",
    "import pylab\n",
    " \n",
    "mnist = input_data.read_data_sets(\"MINST_daya/\", one_hot=True)\n",
    "print(\"输入数据：\",mnist.train.images)\n",
    "print(\"数据的shape：\",mnist.train.images.shape)\n",
    " \n",
    "# 展示数据集中的一张图片\n",
    "im = mnist.train.images[1]\n",
    "im = im.reshape(-1,28)\n",
    "pylab.imshow(im)\n",
    "pylab.show()\n"
   ]
  },
  {
   "cell_type": "code",
   "execution_count": 1,
   "metadata": {},
   "outputs": [
    {
     "name": "stderr",
     "output_type": "stream",
     "text": [
      "WARNING: Logging before flag parsing goes to stderr.\n",
      "W1005 15:22:51.646051 12572 deprecation.py:323] From <ipython-input-1-c446c37c99d2>:7: read_data_sets (from tensorflow.contrib.learn.python.learn.datasets.mnist) is deprecated and will be removed in a future version.\n",
      "Instructions for updating:\n",
      "Please use alternatives such as official/mnist/dataset.py from tensorflow/models.\n",
      "W1005 15:22:51.650015 12572 deprecation.py:323] From f:\\software\\python\\lib\\site-packages\\tensorflow\\contrib\\learn\\python\\learn\\datasets\\mnist.py:260: maybe_download (from tensorflow.contrib.learn.python.learn.datasets.base) is deprecated and will be removed in a future version.\n",
      "Instructions for updating:\n",
      "Please write your own downloading logic.\n",
      "W1005 15:22:51.650015 12572 deprecation.py:323] From f:\\software\\python\\lib\\site-packages\\tensorflow\\contrib\\learn\\python\\learn\\datasets\\mnist.py:262: extract_images (from tensorflow.contrib.learn.python.learn.datasets.mnist) is deprecated and will be removed in a future version.\n",
      "Instructions for updating:\n",
      "Please use tf.data to implement this functionality.\n",
      "W1005 15:22:51.842525 12572 deprecation.py:323] From f:\\software\\python\\lib\\site-packages\\tensorflow\\contrib\\learn\\python\\learn\\datasets\\mnist.py:267: extract_labels (from tensorflow.contrib.learn.python.learn.datasets.mnist) is deprecated and will be removed in a future version.\n",
      "Instructions for updating:\n",
      "Please use tf.data to implement this functionality.\n"
     ]
    },
    {
     "name": "stdout",
     "output_type": "stream",
     "text": [
      "Extracting MINST_daya/train-images-idx3-ubyte.gz\n"
     ]
    },
    {
     "name": "stderr",
     "output_type": "stream",
     "text": [
      "W1005 15:22:51.844494 12572 deprecation.py:323] From f:\\software\\python\\lib\\site-packages\\tensorflow\\contrib\\learn\\python\\learn\\datasets\\mnist.py:110: dense_to_one_hot (from tensorflow.contrib.learn.python.learn.datasets.mnist) is deprecated and will be removed in a future version.\n",
      "Instructions for updating:\n",
      "Please use tf.one_hot on tensors.\n",
      "W1005 15:22:51.898350 12572 deprecation.py:323] From f:\\software\\python\\lib\\site-packages\\tensorflow\\contrib\\learn\\python\\learn\\datasets\\mnist.py:290: DataSet.__init__ (from tensorflow.contrib.learn.python.learn.datasets.mnist) is deprecated and will be removed in a future version.\n",
      "Instructions for updating:\n",
      "Please use alternatives such as official/mnist/dataset.py from tensorflow/models.\n"
     ]
    },
    {
     "name": "stdout",
     "output_type": "stream",
     "text": [
      "Extracting MINST_daya/train-labels-idx1-ubyte.gz\n",
      "Extracting MINST_daya/t10k-images-idx3-ubyte.gz\n",
      "Extracting MINST_daya/t10k-labels-idx1-ubyte.gz\n"
     ]
    }
   ],
   "source": [
    "from tensorflow.examples.tutorials.mnist import  input_data\n",
    "import pylab\n",
    "import tensorflow as tf\n",
    "import numpy as np\n",
    "from datetime import datetime\n",
    " \n",
    "mnist = input_data.read_data_sets(\"MINST_daya/\", one_hot=True)\n",
    " \n",
    "tf.reset_default_graph()\n",
    " \n",
    "# 定义占位符\n",
    "x = tf.placeholder(tf.float32, [None, 784])  # mnist data 维度28*28=784\n",
    "y = tf.placeholder(tf.float32, [None, 10]) \n"
   ]
  },
  {
   "cell_type": "code",
   "execution_count": 2,
   "metadata": {},
   "outputs": [],
   "source": [
    "# 定义学习参数\n",
    "# 设置模型的权重\n",
    "W = tf.Variable(tf.random_normal([784, 10]))  # W的维度是[784, 10]\n",
    "b = tf.Variable(tf.zeros([10]))"
   ]
  },
  {
   "cell_type": "code",
   "execution_count": 4,
   "metadata": {},
   "outputs": [],
   "source": [
    "# 定义输出节点， 构建模型\n",
    "pred = tf.nn.softmax(tf.matmul(x, W) + b)"
   ]
  },
  {
   "cell_type": "code",
   "execution_count": 5,
   "metadata": {},
   "outputs": [],
   "source": [
    "# 定义反向传播的结构，编译训练模型，得到合适的参数\n",
    "cost = tf.reduce_mean(-tf.reduce_sum(y*tf.log(pred), reduction_indices=1))\n",
    " \n",
    "# 参数设置/学习率\n",
    "learning_rate = 0.01\n",
    "\n",
    "# 使用梯度下降优化器\n",
    "optimizer = tf.train.GradientDescentOptimizer(learning_rate).minimize(cost)"
   ]
  },
  {
   "cell_type": "code",
   "execution_count": 6,
   "metadata": {},
   "outputs": [],
   "source": [
    "startTime = datetime.now()\n",
    "#\n",
    "# original\n",
    "#\n",
    "# training_epochs = 25   # 将整个训练样本迭代25次\n",
    "# batch_size = 100    # 在训练过程中每次随机抽取100条数据进行训练\n",
    "# display_step = 1   # 迭代的步数\n",
    "# saver = tf.train.Saver()\n",
    "# model_path = \"mnist/521model.ckpt\"\n",
    "\n",
    "# me\n",
    "training_epochs = 1000\n",
    "batch_size = 100   \n",
    "display_step = 1   \n",
    "\n",
    "saver = tf.train.Saver()\n",
    "model_path = \"mnist/521model.ckpt\""
   ]
  },
  {
   "cell_type": "code",
   "execution_count": 7,
   "metadata": {},
   "outputs": [
    {
     "name": "stdout",
     "output_type": "stream",
     "text": [
      "Epoch: 0001 cost= 7.649536240\n"
     ]
    },
    {
     "ename": "NameError",
     "evalue": "name 'sess2' is not defined",
     "output_type": "error",
     "traceback": [
      "\u001b[1;31m---------------------------------------------------------------------------\u001b[0m",
      "\u001b[1;31mNameError\u001b[0m                                 Traceback (most recent call last)",
      "\u001b[1;32m<ipython-input-7-0bec8e94db11>\u001b[0m in \u001b[0;36m<module>\u001b[1;34m\u001b[0m\n\u001b[0;32m     25\u001b[0m         \u001b[1;32melse\u001b[0m\u001b[1;33m:\u001b[0m\u001b[1;33m\u001b[0m\u001b[1;33m\u001b[0m\u001b[0m\n\u001b[0;32m     26\u001b[0m             \u001b[1;31m# 保存模型的权重(every time)\u001b[0m\u001b[1;33m\u001b[0m\u001b[1;33m\u001b[0m\u001b[1;33m\u001b[0m\u001b[0m\n\u001b[1;32m---> 27\u001b[1;33m             \u001b[0msave_path\u001b[0m \u001b[1;33m=\u001b[0m \u001b[0msaver\u001b[0m\u001b[1;33m.\u001b[0m\u001b[0msave\u001b[0m\u001b[1;33m(\u001b[0m\u001b[0msess2\u001b[0m\u001b[1;33m,\u001b[0m \u001b[0mmodel_path\u001b[0m\u001b[1;33m)\u001b[0m\u001b[1;33m\u001b[0m\u001b[1;33m\u001b[0m\u001b[0m\n\u001b[0m\u001b[0;32m     28\u001b[0m \u001b[1;33m\u001b[0m\u001b[0m\n\u001b[0;32m     29\u001b[0m \u001b[1;33m\u001b[0m\u001b[0m\n",
      "\u001b[1;31mNameError\u001b[0m: name 'sess2' is not defined"
     ]
    }
   ],
   "source": [
    "\n",
    "# 开始训练\n",
    "with tf.Session()  as sess:\n",
    "    # 初始化节点\n",
    "    sess.run(tf.global_variables_initializer())\n",
    "    \n",
    "    # 启动循环开始训练\n",
    "    for epoch in range(training_epochs):\n",
    "        avg_cost = 0.\n",
    "        total_batch = int(mnist.train.num_examples/batch_size)\n",
    "        # 遍历全部的数据集\n",
    "        for i in range(total_batch):\n",
    "            batch_xs, batch_ys = mnist.train.next_batch(batch_size)\n",
    "            # 运行和优化节点的损失函数值\n",
    "            _, c = sess.run([optimizer, cost], feed_dict={x:batch_xs,\n",
    "                                                          y: batch_ys})\n",
    "            # 计算平均损失值\n",
    "            avg_cost += c / total_batch            \n",
    "\n",
    "        # 显示训练中的详细信息\n",
    "        if (epoch+1) % display_step ==0:\n",
    "            print(\"Epoch:\",\"%04d\"%(epoch+1), \"cost=\",'{:.9f}'.format(avg_cost))\n",
    "        if(np.isnan(avg_cost)):\n",
    "            print(type(avg_cost))\n",
    "            break\n",
    "        else:        \n",
    "            # 保存模型的权重(every time)\n",
    "            save_path = saver.save(sess, model_path)\n",
    "        \n",
    "            \n",
    " \n",
    "    print(\"训练成功！！\")\n",
    " \n",
    "    # 模型测试`\n",
    "    correct_prediction = tf.equal(tf.argmax(pred, 1), tf.argmax(y, 1))\n",
    "    # 计算准确率\n",
    "    accuracy = tf.reduce_mean(tf.cast(correct_prediction, tf.float32))\n",
    "    print(\"准确度：\",accuracy.eval({x:mnist.test.images, y:mnist.test.labels}))\n",
    " \n",
    "    # 保存模型的权重\n",
    "    save_path = saver.save(sess, model_path)\n",
    "    print(\"模型文件在：%s\"%save_path)\n",
    "    \n",
    "print(\"Time taken:\", datetime.now() - startTime)\n"
   ]
  },
  {
   "cell_type": "code",
   "execution_count": null,
   "metadata": {},
   "outputs": [],
   "source": [
    "# 该模块是第一次训练模块后的精准读来弄的\n",
    "\n",
    "startTime = datetime.now()\n",
    "\n",
    "# 读取模型\n",
    "print(\"检验第一次训练的情况\")\n",
    "with tf.Session() as sess2:\n",
    "    # 初始化参数\n",
    "    sess2.run(tf.global_variables_initializer())\n",
    "    ############################\n",
    "    #\n",
    "    #从保存的模型中获取权重\n",
    "    #\n",
    "    ###########################\n",
    "    \n",
    "    saver.restore(sess2, model_path)\n",
    " \n",
    "    # 测试 model\n",
    "    correct_prediction = tf.equal(tf.argmax(pred, 1), tf.argmax(y, 1))\n",
    "    # 计算准确率\n",
    "    accuracy = tf.reduce_mean(tf.cast(correct_prediction, tf.float32))\n",
    "    print(\"准确度：\",accuracy.eval({x:mnist.test.images, y:mnist.test.labels}))\n",
    " \n",
    "    output = tf.argmax(pred, 1)\n",
    "    batch_xs, batch_ys = mnist.train.next_batch(2)\n",
    "    outputval, predv = sess2.run([output, pred], feed_dict={x:batch_xs})\n",
    "    print(outputval, pred, batch_ys)\n",
    " \n",
    "    im = batch_xs[0]\n",
    "    im = im.reshape(-1, 28)\n",
    "    pylab.imshow(im)\n",
    "    pylab.show()\n",
    " \n",
    "    im = batch_xs[1]\n",
    "    im = im.reshape(-1, 28)\n",
    "    pylab.imshow(im)\n",
    "    pylab.show()\n",
    "    \n",
    "print(\"Time taken:\", datetime.now() - startTime)\n"
   ]
  },
  {
   "cell_type": "code",
   "execution_count": 7,
   "metadata": {},
   "outputs": [
    {
     "name": "stderr",
     "output_type": "stream",
     "text": [
      "W1005 15:20:59.845503 11008 deprecation.py:323] From f:\\software\\python\\lib\\site-packages\\tensorflow\\python\\training\\saver.py:1276: checkpoint_exists (from tensorflow.python.training.checkpoint_management) is deprecated and will be removed in a future version.\n",
      "Instructions for updating:\n",
      "Use standard file APIs to check for files with this prefix.\n"
     ]
    },
    {
     "name": "stdout",
     "output_type": "stream",
     "text": [
      "启动第二次session\n",
      "Epoch: 0001 cost= nan\n",
      "<class 'numpy.float64'>\n",
      "训练成功！！\n",
      "准确度： 0.098\n",
      "last model\n",
      "模型文件在：mnist/521model.ckpt\n",
      "Time taken: 0:00:01.381281\n"
     ]
    }
   ],
   "source": [
    "\n",
    "###################\n",
    "# 测试是否能在原有的基础上来提高训练精度\n",
    "##################\n",
    "training_epochs = 5000   \n",
    "batch_size = 100   \n",
    "display_step = 1   \n",
    "saver = tf.train.Saver()\n",
    "model_path = \"mnist/521model.ckpt\"\n",
    "\n",
    "startTime = datetime.now()\n",
    "\n",
    "# 读取模型\n",
    "print(\"启动第二次session\")\n",
    "# Creates a session with log_device_placement set to True.\n",
    "with tf.Session() as sess2:\n",
    "    # 初始化参数\n",
    "    sess2.run(tf.global_variables_initializer())\n",
    "    #从保存的模型中获取权重\n",
    "    saver.restore(sess2, model_path)\n",
    "    \n",
    "     # 启动循环开始训练\n",
    "    for epoch in range(training_epochs):\n",
    "        avg_cost = 0.\n",
    "        total_batch = int(mnist.train.num_examples/batch_size)\n",
    "        # 遍历全部的数据集\n",
    "        for i in range(total_batch):\n",
    "            batch_xs, batch_ys = mnist.train.next_batch(batch_size)\n",
    "            # 运行和优化节点的损失函数值\n",
    "            _, c = sess2.run([optimizer, cost], feed_dict={x:batch_xs,\n",
    "                                                          y: batch_ys})\n",
    "            # 计算平均损失值\n",
    "            avg_cost += c / total_batch\n",
    "         \n",
    "        # 显示训练中的详细信息\n",
    "        if (epoch+1) % display_step ==0:\n",
    "            print(\"Epoch:\",\"%04d\"%(epoch+1), \"cost=\",'{:.9f}'.format(avg_cost))\n",
    "        if(np.isnan(avg_cost)):\n",
    "            print(type(avg_cost))\n",
    "            break\n",
    "        else:        \n",
    "            # 保存模型的权重(every time)\n",
    "            save_path = saver.save(sess2, model_path)\n",
    " \n",
    "    print(\"训练成功！！\")\n",
    " \n",
    "    # 模型测试\n",
    "    correct_prediction = tf.equal(tf.argmax(pred, 1), tf.argmax(y, 1))\n",
    "    # 计算准确率\n",
    "    accuracy = tf.reduce_mean(tf.cast(correct_prediction, tf.float32))\n",
    "    print(\"准确度：\",accuracy.eval({x:mnist.test.images, y:mnist.test.labels}))\n",
    " \n",
    "    # 保存模型的权重\n",
    "    print(\"last model\")\n",
    "    save_path = saver.save(sess2, model_path)\n",
    "    print(\"模型文件在：%s\"%save_path)\n",
    "    \n",
    "print(\"Time taken:\", datetime.now() - startTime)"
   ]
  },
  {
   "cell_type": "code",
   "execution_count": null,
   "metadata": {},
   "outputs": [],
   "source": [
    "startTime = datetime.now()\n",
    "\n",
    "# 读取模型\n",
    "print(\"测试第二次训练的情况\")\n",
    "with tf.Session() as sess3:\n",
    "    # 初始化参数\n",
    "    sess3.run(tf.global_variables_initializer())\n",
    "    #从保存的模型中获取权重\n",
    "    saver.restore(sess3, model_path)\n",
    " \n",
    "    # 测试 model\n",
    "    correct_prediction = tf.equal(tf.argmax(pred, 1), tf.argmax(y, 1))\n",
    "    # 计算准确率\n",
    "    accuracy = tf.reduce_mean(tf.cast(correct_prediction, tf.float32))\n",
    "    print(\"准确度：\",accuracy.eval({x:mnist.test.images, y:mnist.test.labels}))\n",
    " \n",
    "    output = tf.argmax(pred, 1)\n",
    "    batch_xs, batch_ys = mnist.train.next_batch(2)\n",
    "    outputval, predv = sess3.run([output, pred], feed_dict={x:batch_xs})\n",
    "    print(outputval, pred, batch_ys)\n",
    " \n",
    "    im = batch_xs[0]\n",
    "    im = im.reshape(-1, 28)\n",
    "    pylab.imshow(im)\n",
    "    pylab.show()\n",
    " \n",
    "    im = batch_xs[1]\n",
    "    im = im.reshape(-1, 28)\n",
    "    pylab.imshow(im)\n",
    "    pylab.show()\n",
    "    \n",
    "print(\"Time taken:\", datetime.now() - startTime)\n"
   ]
  },
  {
   "cell_type": "code",
   "execution_count": null,
   "metadata": {},
   "outputs": [],
   "source": []
  }
 ],
 "metadata": {
  "kernelspec": {
   "display_name": "Python 3",
   "language": "python",
   "name": "python3"
  },
  "language_info": {
   "codemirror_mode": {
    "name": "ipython",
    "version": 3
   },
   "file_extension": ".py",
   "mimetype": "text/x-python",
   "name": "python",
   "nbconvert_exporter": "python",
   "pygments_lexer": "ipython3",
   "version": "3.7.4"
  }
 },
 "nbformat": 4,
 "nbformat_minor": 4
}
